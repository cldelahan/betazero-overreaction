{
 "cells": [
  {
   "cell_type": "code",
   "execution_count": null,
   "metadata": {},
   "outputs": [],
   "source": [
    "#\n",
    "#   Overreaction Data Code\n",
    "#   Beta Zero Capital\n",
    "#   Strategy Team Overreaction\n",
    "#    \n",
    "#   C. Delahanty, H. Fu, J. Kurlander\n",
    "# \n",
    "#\n",
    "#   April, 2020\n",
    "#"
   ]
  },
  {
   "cell_type": "code",
   "execution_count": null,
   "metadata": {},
   "outputs": [],
   "source": [
    "#\n",
    "#   As a preliminary to NLP strategy development,\n",
    "#   we've created this script to generate an excel / csv\n",
    "#   file relating news (a stimulus) and equity\n",
    "#   pricing information pre- and post-stimulus\n",
    "#\n",
    "#   The goal is to support both our team and group-wide NLP strategies\n",
    "#\n",
    "#   Output will currently take the format of:\n",
    "#   Ticker, DateOfDrop, PercentSizeOfDropFromRecentHigh, NewsPriorToDrop(1), ...\n",
    "#   NewsPriorToDrop(2), NewsPriorToDrop(3), Price5minFromLow, Price30minFromLow, ...\n",
    "#   Price1hFromLow, Price4hFromLow, Price1DFromLow, Price3DFromLow\n",
    "#\n",
    "#   Time increments that are during close are treated as the most recent price\n",
    "#   since market close. "
   ]
  },
  {
   "cell_type": "code",
   "execution_count": null,
   "metadata": {},
   "outputs": [],
   "source": [
    "#   ONGOING COMMENTS HERE\n",
    "#   \n",
    "#   Source price data from yfinance at minutely scale for drops / highs\n",
    "#   Source news data from https://stocknewsapi.com/ (?) - free trial for 1 month\n",
    "#   \n",
    "#   A recent high is the most recent max within 24 hours (notice, if a price is monotonically decreasing\n",
    "#   this could be extremely far back - thus 24hour arbitrary cutoff)\n",
    "#\n",
    "#   To avoid output clutter, we limit search for prices with at least a 5% drop.\n",
    "#   \n",
    "#   Chould we record both > 5% price drops AND increases? Might be useful to verify model\n",
    "#\n",
    "#   Finally, should have market-normalized performance. We should also record general market data for the \n",
    "#   fields mentioned above, and potentially duplicate fields after having subtracted out the markets movement\n",
    "#   in that time period (so we don't consider a stock simply when general market favorability drops)\n",
    "#"
   ]
  },
  {
   "cell_type": "code",
   "execution_count": null,
   "metadata": {},
   "outputs": [],
   "source": [
    "import pandas as pd\n",
    "import yfinance as yf # reading minutely data\n",
    "import requests # reading news data from ContextualWeb.io\n",
    "import datetime as dt"
   ]
  },
  {
   "cell_type": "code",
   "execution_count": null,
   "metadata": {},
   "outputs": [],
   "source": [
    "#   PARAMETERS FOR THE MODEL\n",
    "#\n",
    "#   These values are pre-defined to make the following code as general\n",
    "#   as possible. \n",
    "#\n",
    "#\n",
    "\n",
    "start_date  =       \"2016-01-01\"\n",
    "end_date    =       dt.date.today()\n",
    "market      =       \"SPY\"\n",
    "drop        =       0.05\n",
    "n_headlines =       3"
   ]
  },
  {
   "cell_type": "code",
   "execution_count": null,
   "metadata": {},
   "outputs": [],
   "source": [
    "#   IMPORTANT USAGE\n",
    "#\n",
    "#   API is available online, but some important usage:\n",
    "#\n",
    "#   yf.download(tickers = [array or string separated by \" \" of tickers], start = <date to start>, end = <date to end>, \n",
    "#       inverval = <how often>)"
   ]
  },
  {
   "cell_type": "code",
   "execution_count": null,
   "metadata": {},
   "outputs": [],
   "source": [
    "# reading dataframe with tickers of nasdaq / nyse stocks\n",
    "nasdaq = pd.read_csv(\"nasdaq.csv\")\n",
    "nyse = pd.read_csv(\"nyse.csv\")\n",
    "tickers = pd.concat([nasdaq, nyse])\n",
    "\n",
    "# getting authentication data\n",
    "auth = pd.read_csv(\"auth.csv\")\n",
    "host =  auth[\"auth\"][0]\n",
    "apikey = auth[\"auth\"][1]"
   ]
  },
  {
   "cell_type": "code",
   "execution_count": null,
   "metadata": {},
   "outputs": [],
   "source": [
    "# given a ticker, get all drops and the date of the drops\n",
    "def get_drops_from_ticker(ticker):\n",
    "    data = yf.download(tickers)"
   ]
  },
  {
   "cell_type": "code",
   "execution_count": null,
   "metadata": {},
   "outputs": [],
   "source": [
    "# sample call from yf - getting ticker data with interval\n",
    "data = yf.download(tickers=list(tickers[\"Ticker\"]), interval=\"1d\", start = start_date, end = end_date)['Open']"
   ]
  },
  {
   "cell_type": "code",
   "execution_count": null,
   "metadata": {},
   "outputs": [],
   "source": [
    "data.head()"
   ]
  },
  {
   "cell_type": "code",
   "execution_count": null,
   "metadata": {},
   "outputs": [],
   "source": [
    "list(tickers[\"Ticker\"])"
   ]
  },
  {
   "cell_type": "code",
   "execution_count": null,
   "metadata": {},
   "outputs": [],
   "source": [
    "msft.options"
   ]
  },
  {
   "cell_type": "code",
   "execution_count": null,
   "metadata": {
    "scrolled": true
   },
   "outputs": [],
   "source": [
    "# reading minutely data\n",
    "import yfinance as yf\n",
    "\n",
    "# sample call from yf - getting ticker data with interval\n",
    "data = yf.download(tickers=\"MSFT\", period=\"5d\", interval=\"1m\", start)\n",
    "\n",
    "print(data.head())"
   ]
  },
  {
   "cell_type": "code",
   "execution_count": null,
   "metadata": {},
   "outputs": [],
   "source": [
    "url = \"https://contextualwebsearch-websearch-v1.p.rapidapi.com/api/Search/NewsSearchAPI\"\n",
    "\n",
    "querystring = {\"fromPublishedDate\":\"2019-04-20\",\"toPublishedDate\":\"2019-04-23\", \"autoCorrect\":\"false\",\"pageNumber\":\"1\",\"pageSize\":\"10\",\"q\":\"AAPL\",\"safeSearch\":\"false\"}\n",
    "\n",
    "headers = {\n",
    "    'x-rapidapi-host': host,\n",
    "    'x-rapidapi-key': apikey\n",
    "    }\n",
    "\n",
    "response = requests.request(\"GET\", url, headers=headers, params=querystring)\n",
    "\n",
    "print(response)\n",
    "print(response.text)"
   ]
  }
 ],
 "metadata": {
  "kernelspec": {
   "display_name": "Python 3",
   "language": "python",
   "name": "python3"
  },
  "language_info": {
   "codemirror_mode": {
    "name": "ipython",
    "version": 3
   },
   "file_extension": ".py",
   "mimetype": "text/x-python",
   "name": "python",
   "nbconvert_exporter": "python",
   "pygments_lexer": "ipython3",
   "version": "3.6.2"
  }
 },
 "nbformat": 4,
 "nbformat_minor": 2
}
