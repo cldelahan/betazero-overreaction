{
 "cells": [
  {
   "cell_type": "code",
   "execution_count": 1,
   "metadata": {},
   "outputs": [],
   "source": [
    "#\n",
    "#   Overreaction Data Code\n",
    "#   Beta Zero Capital\n",
    "#   Strategy Team Overreaction\n",
    "#    \n",
    "#   C. Delahanty, H. Fu, J. Kurlander\n",
    "# \n",
    "#\n",
    "#   April, 2020\n",
    "#"
   ]
  },
  {
   "cell_type": "code",
   "execution_count": 2,
   "metadata": {},
   "outputs": [],
   "source": [
    "#\n",
    "#   As a preliminary to NLP strategy development,\n",
    "#   we've created this script to generate an excel / csv\n",
    "#   file relating news (a stimulus) and equity\n",
    "#   pricing information pre- and post-stimulus\n",
    "#\n",
    "#   The goal is to support both our team and group-wide NLP strategies\n",
    "#\n",
    "#   Output will currently take the format of:\n",
    "#   Ticker, DateOfDrop, PercentSizeOfDropFromRecentHigh, NewsPriorToDrop(1), ...\n",
    "#   NewsPriorToDrop(2), NewsPriorToDrop(3), Price5minFromLow, Price30minFromLow, ...\n",
    "#   Price1hFromLow, Price4hFromLow, Price1DFromLow, Price3DFromLow\n",
    "#\n",
    "#   Time increments that are during close are treated as the most recent price\n",
    "#   since market close. "
   ]
  },
  {
   "cell_type": "code",
   "execution_count": 3,
   "metadata": {},
   "outputs": [],
   "source": [
    "#   ONGOING COMMENTS HERE\n",
    "#   \n",
    "#   Source price data from yfinance at minutely scale for drops / highs\n",
    "#   Source news data from https://stocknewsapi.com/ (?) - free trial for 1 month\n",
    "#   \n",
    "#   A recent high is the most recent max within 24 hours (notice, if a price is monotonically decreasing\n",
    "#   this could be extremely far back - thus 24hour arbitrary cutoff)\n",
    "#\n",
    "#   To avoid output clutter, we limit search for prices with at least a 5% drop.\n",
    "#   \n",
    "#   Chould we record both > 5% price drops AND increases? Might be useful to verify model\n",
    "#\n",
    "#   Finally, should have market-normalized performance. We should also record general market data for the \n",
    "#   fields mentioned above, and potentially duplicate fields after having subtracted out the markets movement\n",
    "#   in that time period (so we don't consider a stock simply when general market favorability drops)\n",
    "#"
   ]
  },
  {
   "cell_type": "code",
   "execution_count": 4,
   "metadata": {
    "scrolled": true
   },
   "outputs": [
    {
     "name": "stdout",
     "output_type": "stream",
     "text": [
      "[*********************100%***********************]  1 of 1 completed\n",
      "                                 Open        High         Low       Close  \\\n",
      "Datetime                                                                    \n",
      "2020-04-15 09:30:00-04:00  171.162003  171.162003  171.162003  171.162003   \n",
      "2020-04-15 09:31:00-04:00  171.210007  171.289993  170.639999  170.770004   \n",
      "2020-04-15 09:32:00-04:00  170.779999  171.130005  170.600006  170.945007   \n",
      "2020-04-15 09:33:00-04:00  171.300003  171.300003  171.300003  171.300003   \n",
      "2020-04-15 09:34:00-04:00  171.350006  171.350006  170.975800  170.975800   \n",
      "\n",
      "                            Adj Close   Volume  \n",
      "Datetime                                        \n",
      "2020-04-15 09:30:00-04:00  171.162003  1891117  \n",
      "2020-04-15 09:31:00-04:00  170.770004   283402  \n",
      "2020-04-15 09:32:00-04:00  170.945007   194289  \n",
      "2020-04-15 09:33:00-04:00  171.300003   193398  \n",
      "2020-04-15 09:34:00-04:00  170.975800   231707  \n"
     ]
    }
   ],
   "source": [
    "# reading minutely data\n",
    "import yfinance as yf\n",
    "\n",
    "# sample call from yf - getting ticker data with interval\n",
    "data = yf.download(tickers=\"MSFT\", period=\"5d\", interval=\"1m\")\n",
    "\n",
    "print(data.head())"
   ]
  },
  {
   "cell_type": "code",
   "execution_count": null,
   "metadata": {},
   "outputs": [],
   "source": []
  }
 ],
 "metadata": {
  "kernelspec": {
   "display_name": "Python 3",
   "language": "python",
   "name": "python3"
  },
  "language_info": {
   "codemirror_mode": {
    "name": "ipython",
    "version": 3
   },
   "file_extension": ".py",
   "mimetype": "text/x-python",
   "name": "python",
   "nbconvert_exporter": "python",
   "pygments_lexer": "ipython3",
   "version": "3.6.2"
  }
 },
 "nbformat": 4,
 "nbformat_minor": 2
}
