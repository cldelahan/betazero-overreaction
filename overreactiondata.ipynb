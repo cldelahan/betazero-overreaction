{
 "cells": [
  {
   "cell_type": "code",
   "execution_count": 1,
   "metadata": {},
   "outputs": [],
   "source": [
    "#\n",
    "#   Overreaction Data Code\n",
    "#   Beta Zero Capital\n",
    "#   Strategy Team Overreaction\n",
    "#    \n",
    "#   C. Delahanty, H. Fu, J. Kurlander\n",
    "# \n",
    "#\n",
    "#   April, 2020\n",
    "#"
   ]
  },
  {
   "cell_type": "code",
   "execution_count": 2,
   "metadata": {},
   "outputs": [],
   "source": [
    "#\n",
    "#   As a preliminary to NLP strategy development,\n",
    "#   we've created this script to generate an excel / csv\n",
    "#   file relating news (a stimulus) and equity\n",
    "#   pricing information pre- and post-stimulus\n",
    "#\n",
    "#   The goal is to support both our team and group-wide NLP strategies\n",
    "#\n",
    "#   Output will currently take the format of:\n",
    "#   Ticker, DateOfDrop, PercentSizeOfDropFromRecentHigh, NewsPriorToDrop(1), ...\n",
    "#   NewsPriorToDrop(2), NewsPriorToDrop(3), Price5minFromLow, Price30minFromLow, ...\n",
    "#   Price1hFromLow, Price4hFromLow, Price1DFromLow, Price3DFromLow\n",
    "#\n",
    "#   Time increments that are during close are treated as the most recent price\n",
    "#   since market close. "
   ]
  },
  {
   "cell_type": "code",
   "execution_count": 3,
   "metadata": {},
   "outputs": [],
   "source": [
    "#   ONGOING COMMENTS HERE\n",
    "#   \n",
    "#   Source price data from yfinance at minutely scale for drops / highs\n",
    "#   Source news data from https://stocknewsapi.com/ (?) - free trial for 1 month\n",
    "#   \n",
    "#   A recent high is the most recent max within 24 hours (notice, if a price is monotonically decreasing\n",
    "#   this could be extremely far back - thus 24hour arbitrary cutoff)\n",
    "#\n",
    "#   To avoid output clutter, we limit search for prices with at least a 5% drop.\n",
    "#   \n",
    "#   Chould we record both > 5% price drops AND increases? Might be useful to verify model\n",
    "#\n",
    "#   Finally, should have market-normalized performance. We should also record general market data for the \n",
    "#   fields mentioned above, and potentially duplicate fields after having subtracted out the markets movement\n",
    "#   in that time period (so we don't consider a stock simply when general market favorability drops)\n",
    "#"
   ]
  },
  {
   "cell_type": "code",
   "execution_count": 89,
   "metadata": {},
   "outputs": [],
   "source": [
    "import pandas as pd\n",
    "import yfinance as yf # reading minutely data\n",
    "import requests # reading news data from ContextualWeb.io\n",
    "import datetime as dt\n",
    "import numpy as np"
   ]
  },
  {
   "cell_type": "code",
   "execution_count": 184,
   "metadata": {},
   "outputs": [],
   "source": [
    "#   PARAMETERS FOR THE MODEL\n",
    "#\n",
    "#   These values are pre-defined to make the following code as general\n",
    "#   as possible. \n",
    "#\n",
    "#\n",
    "\n",
    "start_date  =       \"2018-05-30\"\n",
    "end_date    =       dt.date.today()\n",
    "market      =       \"SPY\"\n",
    "drop        =       0.05\n",
    "n_headlines =       3\n",
    "normalized  =       True\n",
    "dayOf       =       True               # when looking for news, do we get news the day of the drop or the day after"
   ]
  },
  {
   "cell_type": "code",
   "execution_count": 185,
   "metadata": {},
   "outputs": [],
   "source": [
    "#   IMPORTANT USAGE\n",
    "#\n",
    "#   API is available online, but some important usage:\n",
    "#\n",
    "#   yf.download(tickers = [array or string separated by \" \" of tickers], start = <date to start>, end = <date to end>, \n",
    "#       inverval = <how often>)"
   ]
  },
  {
   "cell_type": "code",
   "execution_count": null,
   "metadata": {},
   "outputs": [],
   "source": []
  },
  {
   "cell_type": "code",
   "execution_count": 186,
   "metadata": {},
   "outputs": [],
   "source": [
    "# reading dataframe with tickers of nasdaq / nyse stocks\n",
    "nasdaq = pd.read_csv(\"nasdaq.csv\")\n",
    "nyse = pd.read_csv(\"nyse.csv\")\n",
    "tickers = pd.concat([nasdaq, nyse])\n",
    "\n",
    "# getting authentication data\n",
    "auth = pd.read_csv(\"auth.csv\")\n",
    "host =  auth[\"auth\"][0]\n",
    "apikey = auth[\"auth\"][1]\n",
    "url = \"https://contextualwebsearch-websearch-v1.p.rapidapi.com/api/Search/NewsSearchAPI\"\n",
    "headers = {\n",
    "    'x-rapidapi-host': host,\n",
    "    'x-rapidapi-key': apikey\n",
    "    }"
   ]
  },
  {
   "cell_type": "code",
   "execution_count": 187,
   "metadata": {},
   "outputs": [],
   "source": [
    "# given a ticker, get all drops and the date of the drops\n",
    "def get_drops_from_ticker(ticker):\n",
    "    data = yf.download(tickers)"
   ]
  },
  {
   "cell_type": "code",
   "execution_count": 188,
   "metadata": {},
   "outputs": [
    {
     "name": "stdout",
     "output_type": "stream",
     "text": [
      "[*********************100%***********************]  1 of 1 completed\n",
      "[*********************100%***********************]  1 of 1 completed\n"
     ]
    }
   ],
   "source": [
    "# sample call from yf - getting ticker data with interval\n",
    "sdata = yf.download(tickers=\"AAPL\", interval=\"1d\", start = start_date, end = end_date)['Open']\n",
    "mdata = yf.download(tickers=market, interval=\"1d\", start = start_date, end = end_date)['Open']\n",
    "beta = yf.Ticker(\"AAPL\").info['beta']"
   ]
  },
  {
   "cell_type": "code",
   "execution_count": 189,
   "metadata": {},
   "outputs": [
    {
     "data": {
      "text/plain": [
       "Date\n",
       "2018-05-30    187.720001\n",
       "2018-05-31    187.220001\n",
       "2018-06-01    187.990005\n",
       "2018-06-04    191.639999\n",
       "2018-06-05    193.070007\n",
       "Name: Open, dtype: float64"
      ]
     },
     "execution_count": 189,
     "metadata": {},
     "output_type": "execute_result"
    }
   ],
   "source": [
    "sdata.head()"
   ]
  },
  {
   "cell_type": "code",
   "execution_count": 190,
   "metadata": {},
   "outputs": [
    {
     "data": {
      "text/plain": [
       "Date\n",
       "2018-05-30         NaN\n",
       "2018-05-31   -0.500000\n",
       "2018-06-01    0.770004\n",
       "2018-06-04    3.649994\n",
       "2018-06-05    1.430008\n",
       "                ...   \n",
       "2020-04-21   -1.670013\n",
       "2020-04-22   -2.670013\n",
       "2020-04-23    2.260010\n",
       "2020-04-24    1.330017\n",
       "2020-04-27    4.599976\n",
       "Name: Open, Length: 481, dtype: float64"
      ]
     },
     "execution_count": 190,
     "metadata": {},
     "output_type": "execute_result"
    }
   ],
   "source": [
    "sdata.diff()"
   ]
  },
  {
   "cell_type": "code",
   "execution_count": 191,
   "metadata": {},
   "outputs": [],
   "source": [
    "# calculating percentage differences\n",
    "if (normalized):\n",
    "    sperdiff = sdata.diff() / sdata.shift() - (mdata.diff() / mdata.shift()) * beta\n",
    "else:\n",
    "    sperdiff = sdata.diff() / sdata.shift()"
   ]
  },
  {
   "cell_type": "code",
   "execution_count": 192,
   "metadata": {},
   "outputs": [],
   "source": [
    "# getting dates of crutial drops\n",
    "if (dayOf):\n",
    "    critdates = pd.to_datetime(sperdiff[sperdiff.shift(-1).abs() > drop].keys()).date\n",
    "else:\n",
    "    critdates = pd.to_datetime(sperdiff[sperdiff.abs() > drop].keys()).date\n",
    "ncritdates = pd.to_datetime(critdates + pd.DateOffset(1)).date"
   ]
  },
  {
   "cell_type": "code",
   "execution_count": 208,
   "metadata": {},
   "outputs": [
    {
     "data": {
      "text/plain": [
       "219.0500030517578"
      ]
     },
     "execution_count": 208,
     "metadata": {},
     "output_type": "execute_result"
    }
   ],
   "source": [
    "sdata[critdates[0]]"
   ]
  },
  {
   "cell_type": "code",
   "execution_count": 194,
   "metadata": {},
   "outputs": [],
   "source": [
    "# returns two arrays, one with headings and one with body\n",
    "def parseNewsResults(newsData, size):\n",
    "    titles = []\n",
    "    bodies = []\n",
    "    for i in range (min(n_headlines, size)):\n",
    "        titles.append(newsData[i]['title'])\n",
    "        bodies.append(newsData[i]['body'])\n",
    "    return titles, bodies"
   ]
  },
  {
   "cell_type": "code",
   "execution_count": 217,
   "metadata": {},
   "outputs": [],
   "source": [
    "# declaring an output pandas dataframe\n",
    "output_df = pd.DataFrame\n",
    "d = {\n",
    "    'ticker': \"AAPL\",\n",
    "    'dropDate': critdates[i],\n",
    "    'pOpen': p_open,\n",
    "    'p1h': p_1h,\n",
    "    'p2h': p_2h,\n",
    "    'p4h': p_4h,\n",
    "    'p1d': p_1d,\n",
    "    'p2d': p_2d,\n",
    "    'headlines': titles,\n",
    "    'bodies': bodies \n",
    "}\n",
    "temp = pd.DataFrame(data=d)\n",
    "output_df = pd.concat([temp, temp])"
   ]
  },
  {
   "cell_type": "code",
   "execution_count": 246,
   "metadata": {},
   "outputs": [
    {
     "ename": "IndexError",
     "evalue": "index 3 is out of bounds for axis 0 with size 3",
     "output_type": "error",
     "traceback": [
      "\u001b[1;31m---------------------------------------------------------------------------\u001b[0m",
      "\u001b[1;31mIndexError\u001b[0m                                Traceback (most recent call last)",
      "\u001b[1;32m<ipython-input-246-8dae740ab6dd>\u001b[0m in \u001b[0;36m<module>\u001b[1;34m()\u001b[0m\n\u001b[1;32m----> 1\u001b[1;33m \u001b[0msdata\u001b[0m\u001b[1;33m[\u001b[0m\u001b[0mcritdates\u001b[0m\u001b[1;33m[\u001b[0m\u001b[1;36m3\u001b[0m\u001b[1;33m]\u001b[0m\u001b[1;33m]\u001b[0m\u001b[1;33m\u001b[0m\u001b[0m\n\u001b[0m",
      "\u001b[1;31mIndexError\u001b[0m: index 3 is out of bounds for axis 0 with size 3"
     ]
    }
   ],
   "source": [
    "sdata[critdates[3]]"
   ]
  },
  {
   "cell_type": "code",
   "execution_count": 247,
   "metadata": {
    "scrolled": true
   },
   "outputs": [],
   "source": [
    "output_df = pd.DataFrame()"
   ]
  },
  {
   "cell_type": "code",
   "execution_count": 248,
   "metadata": {},
   "outputs": [
    {
     "name": "stdout",
     "output_type": "stream",
     "text": [
      "[*********************100%***********************]  1 of 1 completed\n",
      "[*********************100%***********************]  1 of 1 completed\n",
      "[*********************100%***********************]  1 of 1 completed\n"
     ]
    }
   ],
   "source": [
    "# iterating through the critical dates\n",
    "for i in range (len(critdates)):\n",
    "    # use news API\n",
    "    querystring = {\n",
    "        \"fromPublishedDate\": critdates[i],\n",
    "        \"toPublishedDate\":ncritdates[i], \n",
    "        \"autoCorrect\":\"false\",\n",
    "        \"pageNumber\":\"1\",\n",
    "        \"pageSize\":\"10\",\n",
    "        \"q\":\"AAPL\",\n",
    "        \"safeSearch\":\"false\"}\n",
    "    response = requests.request(\"GET\", url, headers=headers, params=querystring)\n",
    "    # getting news data\n",
    "    titles, bodies = parseNewsResults(response.json()['value'], response.json()['totalCount'])\n",
    "    # get hourly data in that range\n",
    "    sdata_h = yf.download(tickers=\"AAPL\", interval=\"1h\", start = ncritdates[i], end = ncritdates[i] + dt.timedelta(5))['Open']\n",
    "    \n",
    "    # TODO: if dayOf is false, then need to move this date back one day\n",
    "    p_prior = sdata[critdates[i]]\n",
    "    \n",
    "    p_open = sdata_h[0]\n",
    "    p_1h = sdata_h[1]\n",
    "    p_2h = sdata_h[2]\n",
    "    p_4h = sdata_h[4]\n",
    "    p_1d = sdata_h[7] # 7 hours in trade day\n",
    "    p_2d = sdata_h[14]\n",
    "    \n",
    "    \n",
    "    d = {\n",
    "    'ticker': \"AAPL\",\n",
    "    'dropDate': critdates[i],\n",
    "    'pPrior': p_prior,\n",
    "    'pOpen': p_open,\n",
    "    'p1h': p_1h,\n",
    "    'p2h': p_2h,\n",
    "    'p4h': p_4h,\n",
    "    'p1d': p_1d,\n",
    "    'p2d': p_2d,\n",
    "    'headlines': titles,\n",
    "    'bodies': bodies \n",
    "    }\n",
    "    # creating temporary dataframe\n",
    "    temp = pd.DataFrame(data=d)\n",
    "    \n",
    "    output_df = pd.concat([output_df, temp])\n",
    "    "
   ]
  },
  {
   "cell_type": "code",
   "execution_count": 249,
   "metadata": {},
   "outputs": [
    {
     "data": {
      "text/html": [
       "<div>\n",
       "<style scoped>\n",
       "    .dataframe tbody tr th:only-of-type {\n",
       "        vertical-align: middle;\n",
       "    }\n",
       "\n",
       "    .dataframe tbody tr th {\n",
       "        vertical-align: top;\n",
       "    }\n",
       "\n",
       "    .dataframe thead th {\n",
       "        text-align: right;\n",
       "    }\n",
       "</style>\n",
       "<table border=\"1\" class=\"dataframe\">\n",
       "  <thead>\n",
       "    <tr style=\"text-align: right;\">\n",
       "      <th></th>\n",
       "      <th>ticker</th>\n",
       "      <th>dropDate</th>\n",
       "      <th>pPrior</th>\n",
       "      <th>pOpen</th>\n",
       "      <th>p1h</th>\n",
       "      <th>p2h</th>\n",
       "      <th>p4h</th>\n",
       "      <th>p1d</th>\n",
       "      <th>p2d</th>\n",
       "      <th>headlines</th>\n",
       "      <th>bodies</th>\n",
       "    </tr>\n",
       "  </thead>\n",
       "  <tbody>\n",
       "    <tr>\n",
       "      <th>0</th>\n",
       "      <td>AAPL</td>\n",
       "      <td>2018-11-01</td>\n",
       "      <td>219.050003</td>\n",
       "      <td>209.699997</td>\n",
       "      <td>207.470001</td>\n",
       "      <td>207.259995</td>\n",
       "      <td>206.419998</td>\n",
       "      <td>204.250000</td>\n",
       "      <td>201.869995</td>\n",
       "      <td>Apple Inc. (&lt;b&gt;AAPL&lt;/b&gt;) Is Down Following Q4 ...</td>\n",
       "      <td>Apple Inc. (AAPL) reported fourth quarter EPS ...</td>\n",
       "    </tr>\n",
       "    <tr>\n",
       "      <th>1</th>\n",
       "      <td>AAPL</td>\n",
       "      <td>2018-11-01</td>\n",
       "      <td>219.050003</td>\n",
       "      <td>209.699997</td>\n",
       "      <td>207.470001</td>\n",
       "      <td>207.259995</td>\n",
       "      <td>206.419998</td>\n",
       "      <td>204.250000</td>\n",
       "      <td>201.869995</td>\n",
       "      <td>Apple Earnings: &lt;b&gt;AAPL&lt;/b&gt; Stock Slides on Q4...</td>\n",
       "      <td>Apple earnings (AAPL) is sliding after hours e...</td>\n",
       "    </tr>\n",
       "    <tr>\n",
       "      <th>2</th>\n",
       "      <td>AAPL</td>\n",
       "      <td>2018-11-01</td>\n",
       "      <td>219.050003</td>\n",
       "      <td>209.699997</td>\n",
       "      <td>207.470001</td>\n",
       "      <td>207.259995</td>\n",
       "      <td>206.419998</td>\n",
       "      <td>204.250000</td>\n",
       "      <td>201.869995</td>\n",
       "      <td>Apple down 7% on soft guidance</td>\n",
       "      <td>)\\ndrops 6.8%\\non Q4 results that beat EPS and...</td>\n",
       "    </tr>\n",
       "    <tr>\n",
       "      <th>0</th>\n",
       "      <td>AAPL</td>\n",
       "      <td>2019-01-02</td>\n",
       "      <td>154.889999</td>\n",
       "      <td>144.039993</td>\n",
       "      <td>143.949997</td>\n",
       "      <td>144.377502</td>\n",
       "      <td>144.229996</td>\n",
       "      <td>144.419998</td>\n",
       "      <td>148.689896</td>\n",
       "      <td>Apple Inc. (&lt;b&gt;AAPL&lt;/b&gt;) Is Sharply Lower Afte...</td>\n",
       "      <td>Apple Inc. (AAPL) announced after the bell Wed...</td>\n",
       "    </tr>\n",
       "    <tr>\n",
       "      <th>1</th>\n",
       "      <td>AAPL</td>\n",
       "      <td>2019-01-02</td>\n",
       "      <td>154.889999</td>\n",
       "      <td>144.039993</td>\n",
       "      <td>143.949997</td>\n",
       "      <td>144.377502</td>\n",
       "      <td>144.229996</td>\n",
       "      <td>144.419998</td>\n",
       "      <td>148.689896</td>\n",
       "      <td>Apple Announces Revenue Is Unraveling</td>\n",
       "      <td>Source: hocus-focus / Getty ImagesInvestors wh...</td>\n",
       "    </tr>\n",
       "    <tr>\n",
       "      <th>2</th>\n",
       "      <td>AAPL</td>\n",
       "      <td>2019-01-02</td>\n",
       "      <td>154.889999</td>\n",
       "      <td>144.039993</td>\n",
       "      <td>143.949997</td>\n",
       "      <td>144.377502</td>\n",
       "      <td>144.229996</td>\n",
       "      <td>144.419998</td>\n",
       "      <td>148.689896</td>\n",
       "      <td>Apple has cut its Q1 revenue guidance</td>\n",
       "      <td>One for the AAPL traders\\r\\n- Apple cuts Q1 re...</td>\n",
       "    </tr>\n",
       "    <tr>\n",
       "      <th>0</th>\n",
       "      <td>AAPL</td>\n",
       "      <td>2020-02-28</td>\n",
       "      <td>257.260010</td>\n",
       "      <td>283.380005</td>\n",
       "      <td>281.304993</td>\n",
       "      <td>289.394012</td>\n",
       "      <td>288.450012</td>\n",
       "      <td>303.630005</td>\n",
       "      <td>296.700012</td>\n",
       "      <td>Apple's Cook says virus issues 'temporary,' pr...</td>\n",
       "      <td>AAPL\\n-0.7%\\n) chief Tim Cook isn't sure wheth...</td>\n",
       "    </tr>\n",
       "    <tr>\n",
       "      <th>1</th>\n",
       "      <td>AAPL</td>\n",
       "      <td>2020-02-28</td>\n",
       "      <td>257.260010</td>\n",
       "      <td>283.380005</td>\n",
       "      <td>281.304993</td>\n",
       "      <td>289.394012</td>\n",
       "      <td>288.450012</td>\n",
       "      <td>303.630005</td>\n",
       "      <td>296.700012</td>\n",
       "      <td>&lt;b&gt;AAPL&lt;/b&gt;, MSFT Stock Down 7%, Coronavirus F...</td>\n",
       "      <td>Apple Inc\\n(NASDAQ: AAPL) was down by 3.48% in...</td>\n",
       "    </tr>\n",
       "    <tr>\n",
       "      <th>2</th>\n",
       "      <td>AAPL</td>\n",
       "      <td>2020-02-28</td>\n",
       "      <td>257.260010</td>\n",
       "      <td>283.380005</td>\n",
       "      <td>281.304993</td>\n",
       "      <td>289.394012</td>\n",
       "      <td>288.450012</td>\n",
       "      <td>303.630005</td>\n",
       "      <td>296.700012</td>\n",
       "      <td>Airline, Hotel, Casino Stocks Likely To Be In ...</td>\n",
       "      <td>What the market has been doing this week is re...</td>\n",
       "    </tr>\n",
       "  </tbody>\n",
       "</table>\n",
       "</div>"
      ],
      "text/plain": [
       "  ticker    dropDate      pPrior       pOpen         p1h         p2h  \\\n",
       "0   AAPL  2018-11-01  219.050003  209.699997  207.470001  207.259995   \n",
       "1   AAPL  2018-11-01  219.050003  209.699997  207.470001  207.259995   \n",
       "2   AAPL  2018-11-01  219.050003  209.699997  207.470001  207.259995   \n",
       "0   AAPL  2019-01-02  154.889999  144.039993  143.949997  144.377502   \n",
       "1   AAPL  2019-01-02  154.889999  144.039993  143.949997  144.377502   \n",
       "2   AAPL  2019-01-02  154.889999  144.039993  143.949997  144.377502   \n",
       "0   AAPL  2020-02-28  257.260010  283.380005  281.304993  289.394012   \n",
       "1   AAPL  2020-02-28  257.260010  283.380005  281.304993  289.394012   \n",
       "2   AAPL  2020-02-28  257.260010  283.380005  281.304993  289.394012   \n",
       "\n",
       "          p4h         p1d         p2d  \\\n",
       "0  206.419998  204.250000  201.869995   \n",
       "1  206.419998  204.250000  201.869995   \n",
       "2  206.419998  204.250000  201.869995   \n",
       "0  144.229996  144.419998  148.689896   \n",
       "1  144.229996  144.419998  148.689896   \n",
       "2  144.229996  144.419998  148.689896   \n",
       "0  288.450012  303.630005  296.700012   \n",
       "1  288.450012  303.630005  296.700012   \n",
       "2  288.450012  303.630005  296.700012   \n",
       "\n",
       "                                           headlines  \\\n",
       "0  Apple Inc. (<b>AAPL</b>) Is Down Following Q4 ...   \n",
       "1  Apple Earnings: <b>AAPL</b> Stock Slides on Q4...   \n",
       "2                     Apple down 7% on soft guidance   \n",
       "0  Apple Inc. (<b>AAPL</b>) Is Sharply Lower Afte...   \n",
       "1              Apple Announces Revenue Is Unraveling   \n",
       "2              Apple has cut its Q1 revenue guidance   \n",
       "0  Apple's Cook says virus issues 'temporary,' pr...   \n",
       "1  <b>AAPL</b>, MSFT Stock Down 7%, Coronavirus F...   \n",
       "2  Airline, Hotel, Casino Stocks Likely To Be In ...   \n",
       "\n",
       "                                              bodies  \n",
       "0  Apple Inc. (AAPL) reported fourth quarter EPS ...  \n",
       "1  Apple earnings (AAPL) is sliding after hours e...  \n",
       "2  )\\ndrops 6.8%\\non Q4 results that beat EPS and...  \n",
       "0  Apple Inc. (AAPL) announced after the bell Wed...  \n",
       "1  Source: hocus-focus / Getty ImagesInvestors wh...  \n",
       "2  One for the AAPL traders\\r\\n- Apple cuts Q1 re...  \n",
       "0  AAPL\\n-0.7%\\n) chief Tim Cook isn't sure wheth...  \n",
       "1  Apple Inc\\n(NASDAQ: AAPL) was down by 3.48% in...  \n",
       "2  What the market has been doing this week is re...  "
      ]
     },
     "execution_count": 249,
     "metadata": {},
     "output_type": "execute_result"
    }
   ],
   "source": [
    "output_df"
   ]
  }
 ],
 "metadata": {
  "kernelspec": {
   "display_name": "Python 3",
   "language": "python",
   "name": "python3"
  },
  "language_info": {
   "codemirror_mode": {
    "name": "ipython",
    "version": 3
   },
   "file_extension": ".py",
   "mimetype": "text/x-python",
   "name": "python",
   "nbconvert_exporter": "python",
   "pygments_lexer": "ipython3",
   "version": "3.6.2"
  }
 },
 "nbformat": 4,
 "nbformat_minor": 2
}
